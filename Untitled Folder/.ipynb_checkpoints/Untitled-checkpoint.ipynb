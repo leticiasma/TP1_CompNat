{
 "cells": [
  {
   "cell_type": "code",
   "execution_count": 5,
   "id": "d1f7e1dc",
   "metadata": {},
   "outputs": [],
   "source": [
    "import matplotlib.pyplot as plt\n",
    "import pandas as pd\n",
    "%matplotlib inline"
   ]
  },
  {
   "cell_type": "code",
   "execution_count": 7,
   "id": "621bd1ac",
   "metadata": {},
   "outputs": [],
   "source": [
    "caminho_pastas_resultados = '../coletas/'\n",
    "\n",
    "dicionario_dados_cada_config = dict()\n",
    "for i in range(1,6):\n",
    "    config_data = pd.read_csv(caminho_pastas_resultados+str(i)+'/melhor_fitness_treino_vs_teste.csv')\n",
    "    dicionario_dados_cada_config[i] = config_data"
   ]
  },
  {
   "cell_type": "code",
   "execution_count": 20,
   "id": "6c833274",
   "metadata": {},
   "outputs": [
    {
     "data": {
      "text/html": [
       "<div>\n",
       "<style scoped>\n",
       "    .dataframe tbody tr th:only-of-type {\n",
       "        vertical-align: middle;\n",
       "    }\n",
       "\n",
       "    .dataframe tbody tr th {\n",
       "        vertical-align: top;\n",
       "    }\n",
       "\n",
       "    .dataframe thead th {\n",
       "        text-align: right;\n",
       "    }\n",
       "</style>\n",
       "<table border=\"1\" class=\"dataframe\">\n",
       "  <thead>\n",
       "    <tr style=\"text-align: right;\">\n",
       "      <th></th>\n",
       "      <th>fit_melhor_indiv_da_iteracao_base_treino</th>\n",
       "      <th>fit_melhor_indiv_da_iteracao_base_teste</th>\n",
       "    </tr>\n",
       "  </thead>\n",
       "  <tbody>\n",
       "    <tr>\n",
       "      <th>0</th>\n",
       "      <td>7.761777</td>\n",
       "      <td>7.761777</td>\n",
       "    </tr>\n",
       "    <tr>\n",
       "      <th>1</th>\n",
       "      <td>5.208925</td>\n",
       "      <td>5.208925</td>\n",
       "    </tr>\n",
       "    <tr>\n",
       "      <th>2</th>\n",
       "      <td>2.972828</td>\n",
       "      <td>2.972828</td>\n",
       "    </tr>\n",
       "    <tr>\n",
       "      <th>3</th>\n",
       "      <td>2.330733</td>\n",
       "      <td>2.330733</td>\n",
       "    </tr>\n",
       "    <tr>\n",
       "      <th>4</th>\n",
       "      <td>1.952058</td>\n",
       "      <td>1.952058</td>\n",
       "    </tr>\n",
       "  </tbody>\n",
       "</table>\n",
       "</div>"
      ],
      "text/plain": [
       "   fit_melhor_indiv_da_iteracao_base_treino   \n",
       "0                                  7.761777  \\\n",
       "1                                  5.208925   \n",
       "2                                  2.972828   \n",
       "3                                  2.330733   \n",
       "4                                  1.952058   \n",
       "\n",
       "   fit_melhor_indiv_da_iteracao_base_teste  \n",
       "0                                 7.761777  \n",
       "1                                 5.208925  \n",
       "2                                 2.972828  \n",
       "3                                 2.330733  \n",
       "4                                 1.952058  "
      ]
     },
     "execution_count": 20,
     "metadata": {},
     "output_type": "execute_result"
    }
   ],
   "source": [
    "dicionario_dados_cada_config[3].head()"
   ]
  },
  {
   "cell_type": "code",
   "execution_count": 18,
   "id": "62394dea",
   "metadata": {},
   "outputs": [
    {
     "name": "stdout",
     "output_type": "stream",
     "text": [
      "MEDIAS  fit_melhor_indiv_da_iteracao_base_treino    14.439368\n",
      "fit_melhor_indiv_da_iteracao_base_teste     21.563940\n",
      "dtype: float64\n",
      "MEDIAS  fit_melhor_indiv_da_iteracao_base_treino    11.476757\n",
      "fit_melhor_indiv_da_iteracao_base_teste     11.476757\n",
      "dtype: float64\n",
      "MEDIAS  fit_melhor_indiv_da_iteracao_base_treino    6.186439\n",
      "fit_melhor_indiv_da_iteracao_base_teste     6.186439\n",
      "dtype: float64\n",
      "MEDIAS  fit_melhor_indiv_da_iteracao_base_treino    11.137911\n",
      "fit_melhor_indiv_da_iteracao_base_teste     11.137911\n",
      "dtype: float64\n",
      "MEDIAS  fit_melhor_indiv_da_iteracao_base_treino    3.49679\n",
      "fit_melhor_indiv_da_iteracao_base_teste     3.49679\n",
      "dtype: float64\n"
     ]
    }
   ],
   "source": [
    "medias_por_config = dict()\n",
    "for config,df in dicionario_dados_cada_config.items():\n",
    "    medias = df.mean()\n",
    "    print(\"MEDIAS \", medias)\n",
    "    if 'treino' not in medias_por_config:\n",
    "        medias_treino = []\n",
    "    else:\n",
    "        medias_treino = medias_por_config['treino']\n",
    "    \n",
    "    medias_treino.append(medias.fit_melhor_indiv_da_iteracao_base_treino)\n",
    "    medias_por_config['treino'] = medias_treino\n",
    "    \n",
    "    if 'teste' not in medias_por_config:\n",
    "        medias_teste = []\n",
    "    else:\n",
    "        medias_teste = medias_por_config['teste']\n",
    "    \n",
    "    medias_teste.append(medias.fit_melhor_indiv_da_iteracao_base_teste)\n",
    "    medias_por_config['teste'] = medias_teste"
   ]
  },
  {
   "cell_type": "code",
   "execution_count": 14,
   "id": "2b047807",
   "metadata": {},
   "outputs": [
    {
     "data": {
      "text/plain": [
       "{'treino': [14.439367905559298,\n",
       "  11.476756527903486,\n",
       "  6.18643917442164,\n",
       "  11.137911160627176,\n",
       "  3.496789979310826],\n",
       " 'teste': [21.563939804467292,\n",
       "  11.476756527903486,\n",
       "  6.18643917442164,\n",
       "  11.137911160627176,\n",
       "  3.496789979310826]}"
      ]
     },
     "execution_count": 14,
     "metadata": {},
     "output_type": "execute_result"
    }
   ],
   "source": [
    "medias_por_config"
   ]
  },
  {
   "cell_type": "code",
   "execution_count": 15,
   "id": "0ac0f437",
   "metadata": {},
   "outputs": [],
   "source": [
    "fitness_media_df = pd.DataFrame(medias_por_config, index=['50x50', '50x100', '50x500', '100x50', '500x50'])"
   ]
  },
  {
   "cell_type": "code",
   "execution_count": 16,
   "id": "cbdf3d46",
   "metadata": {},
   "outputs": [
    {
     "data": {
      "text/html": [
       "<div>\n",
       "<style scoped>\n",
       "    .dataframe tbody tr th:only-of-type {\n",
       "        vertical-align: middle;\n",
       "    }\n",
       "\n",
       "    .dataframe tbody tr th {\n",
       "        vertical-align: top;\n",
       "    }\n",
       "\n",
       "    .dataframe thead th {\n",
       "        text-align: right;\n",
       "    }\n",
       "</style>\n",
       "<table border=\"1\" class=\"dataframe\">\n",
       "  <thead>\n",
       "    <tr style=\"text-align: right;\">\n",
       "      <th></th>\n",
       "      <th>treino</th>\n",
       "      <th>teste</th>\n",
       "    </tr>\n",
       "  </thead>\n",
       "  <tbody>\n",
       "    <tr>\n",
       "      <th>50x50</th>\n",
       "      <td>14.439368</td>\n",
       "      <td>21.563940</td>\n",
       "    </tr>\n",
       "    <tr>\n",
       "      <th>50x100</th>\n",
       "      <td>11.476757</td>\n",
       "      <td>11.476757</td>\n",
       "    </tr>\n",
       "    <tr>\n",
       "      <th>50x500</th>\n",
       "      <td>6.186439</td>\n",
       "      <td>6.186439</td>\n",
       "    </tr>\n",
       "    <tr>\n",
       "      <th>100x50</th>\n",
       "      <td>11.137911</td>\n",
       "      <td>11.137911</td>\n",
       "    </tr>\n",
       "    <tr>\n",
       "      <th>500x50</th>\n",
       "      <td>3.496790</td>\n",
       "      <td>3.496790</td>\n",
       "    </tr>\n",
       "  </tbody>\n",
       "</table>\n",
       "</div>"
      ],
      "text/plain": [
       "           treino      teste\n",
       "50x50   14.439368  21.563940\n",
       "50x100  11.476757  11.476757\n",
       "50x500   6.186439   6.186439\n",
       "100x50  11.137911  11.137911\n",
       "500x50   3.496790   3.496790"
      ]
     },
     "execution_count": 16,
     "metadata": {},
     "output_type": "execute_result"
    }
   ],
   "source": [
    "fitness_media_df"
   ]
  },
  {
   "cell_type": "code",
   "execution_count": 17,
   "id": "a07c363f",
   "metadata": {},
   "outputs": [
    {
     "data": {
      "text/plain": [
       "<Axes: >"
      ]
     },
     "execution_count": 17,
     "metadata": {},
     "output_type": "execute_result"
    },
    {
     "data": {
      "image/png": "[encoded data removed]",
      "text/plain": [
       "<Figure size 640x480 with 1 Axes>"
      ]
     },
     "metadata": {},
     "output_type": "display_data"
    }
   ],
   "source": [
    "fitness_media_df.plot(kind='bar')"
   ]
  },
  {
   "cell_type": "code",
   "execution_count": null,
   "id": "79372a28",
   "metadata": {},
   "outputs": [],
   "source": []
  }
 ],
 "metadata": {
  "kernelspec": {
   "display_name": "Python 3 (ipykernel)",
   "language": "python",
   "name": "python3"
  },
  "language_info": {
   "codemirror_mode": {
    "name": "ipython",
    "version": 3
   },
   "file_extension": ".py",
   "mimetype": "text/x-python",
   "name": "python",
   "nbconvert_exporter": "python",
   "pygments_lexer": "ipython3",
   "version": "3.10.4"
  }
 },
 "nbformat": 4,
 "nbformat_minor": 5
}
